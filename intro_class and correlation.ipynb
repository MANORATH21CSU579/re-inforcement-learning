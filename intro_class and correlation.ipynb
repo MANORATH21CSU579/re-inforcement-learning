{
  "nbformat": 4,
  "nbformat_minor": 0,
  "metadata": {
    "colab": {
      "provenance": [],
      "authorship_tag": "ABX9TyOeZMFiGJHOGuAfsHRnlq44",
      "include_colab_link": true
    },
    "kernelspec": {
      "name": "python3",
      "display_name": "Python 3"
    },
    "language_info": {
      "name": "python"
    }
  },
  "cells": [
    {
      "cell_type": "markdown",
      "metadata": {
        "id": "view-in-github",
        "colab_type": "text"
      },
      "source": [
        "<a href=\"https://colab.research.google.com/github/MANORATH21CSU579/re-inforcement-learning/blob/main/intro_class%20and%20correlation.ipynb\" target=\"_parent\"><img src=\"https://colab.research.google.com/assets/colab-badge.svg\" alt=\"Open In Colab\"/></a>"
      ]
    },
    {
      "cell_type": "code",
      "execution_count": null,
      "metadata": {
        "colab": {
          "base_uri": "https://localhost:8080/"
        },
        "id": "mXhzE5zvbdkE",
        "outputId": "07835271-4c90-4b3c-cdd8-331ff2161899"
      },
      "outputs": [
        {
          "output_type": "stream",
          "name": "stdout",
          "text": [
            "Python 3.10.6\n"
          ]
        }
      ],
      "source": [
        "!python --version\n"
      ]
    },
    {
      "cell_type": "code",
      "source": [
        "x=56\n",
        "print(x,type(x))"
      ],
      "metadata": {
        "colab": {
          "base_uri": "https://localhost:8080/"
        },
        "id": "EdGEGtJOeGTc",
        "outputId": "8d595faa-a5e8-4e6c-d6c0-58e5b2755835"
      },
      "execution_count": null,
      "outputs": [
        {
          "output_type": "stream",
          "name": "stdout",
          "text": [
            "56 <class 'int'>\n"
          ]
        }
      ]
    },
    {
      "cell_type": "code",
      "source": [
        "print(x+1,x-1,x*1,x/1,x**2)"
      ],
      "metadata": {
        "colab": {
          "base_uri": "https://localhost:8080/"
        },
        "id": "y3VT4DXNeT9z",
        "outputId": "23b33db8-edfb-4953-9ee9-f629e590828e"
      },
      "execution_count": null,
      "outputs": [
        {
          "output_type": "stream",
          "name": "stdout",
          "text": [
            "57 55 56 56.0 3136\n"
          ]
        }
      ]
    },
    {
      "cell_type": "code",
      "source": [
        "t= True\n",
        "f= False\n",
        "print(type(t))\n",
        "print(t or f)\n",
        "print(not t)\n",
        "print( t !=f)\n",
        "\n"
      ],
      "metadata": {
        "colab": {
          "base_uri": "https://localhost:8080/"
        },
        "id": "G011qcu-egvt",
        "outputId": "ca0d48d9-0db7-498a-d938-2da2f539a475"
      },
      "execution_count": null,
      "outputs": [
        {
          "output_type": "stream",
          "name": "stdout",
          "text": [
            "<class 'bool'>\n",
            "True\n",
            "False\n",
            "True\n"
          ]
        }
      ]
    },
    {
      "cell_type": "code",
      "source": [
        "hello='hello'\n",
        "world='world'\n",
        "print(hello)\n",
        "print(len(hello))\n",
        "hw=hello+\"_\"+world\n",
        "print(hw)\n"
      ],
      "metadata": {
        "colab": {
          "base_uri": "https://localhost:8080/"
        },
        "id": "WypJT-kzf3xD",
        "outputId": "f9e8626c-a49d-4832-cab2-0af8ba283036"
      },
      "execution_count": null,
      "outputs": [
        {
          "output_type": "stream",
          "name": "stdout",
          "text": [
            "hello\n",
            "5\n",
            "hello_world\n"
          ]
        }
      ]
    },
    {
      "cell_type": "code",
      "source": [
        "hw12='%s %s %d' %( hello, world, 12)"
      ],
      "metadata": {
        "id": "GPHJ889zg9eI"
      },
      "execution_count": null,
      "outputs": []
    },
    {
      "cell_type": "code",
      "source": [
        "hw12"
      ],
      "metadata": {
        "colab": {
          "base_uri": "https://localhost:8080/",
          "height": 36
        },
        "id": "oXOfbYX_hGsy",
        "outputId": "bed4e425-f2bb-465b-bb99-d06b6e5fd5c9"
      },
      "execution_count": null,
      "outputs": [
        {
          "output_type": "execute_result",
          "data": {
            "text/plain": [
              "'hello world 12'"
            ],
            "application/vnd.google.colaboratory.intrinsic+json": {
              "type": "string"
            }
          },
          "metadata": {},
          "execution_count": 10
        }
      ]
    },
    {
      "cell_type": "code",
      "source": [
        "hw12='{}--_--{}-.-{}'.format(hello,world,12)"
      ],
      "metadata": {
        "id": "mx87vCTAhIWx"
      },
      "execution_count": null,
      "outputs": []
    },
    {
      "cell_type": "code",
      "source": [
        "hw12"
      ],
      "metadata": {
        "colab": {
          "base_uri": "https://localhost:8080/",
          "height": 36
        },
        "id": "vvqscm7shu_a",
        "outputId": "5bd7c9ca-dff4-4445-bdde-239df6185319"
      },
      "execution_count": null,
      "outputs": [
        {
          "output_type": "execute_result",
          "data": {
            "text/plain": [
              "'hello--_--world-.-12'"
            ],
            "application/vnd.google.colaboratory.intrinsic+json": {
              "type": "string"
            }
          },
          "metadata": {},
          "execution_count": 14
        }
      ]
    },
    {
      "cell_type": "code",
      "source": [
        "s='hello'\n",
        "print(s.capitalize)\n",
        "print(s.upper)\n",
        "print(s.rjust(9))\n",
        "print(s.center(8))\n",
        "print(s.replace('l','(shu)'))\n",
        "print('   world'.strip())"
      ],
      "metadata": {
        "colab": {
          "base_uri": "https://localhost:8080/"
        },
        "id": "XVFw5hFLh39N",
        "outputId": "cb645aa5-f351-497c-88d5-7578783e8bb9"
      },
      "execution_count": null,
      "outputs": [
        {
          "output_type": "stream",
          "name": "stdout",
          "text": [
            "<built-in method capitalize of str object at 0x7b179ec8eb70>\n",
            "<built-in method upper of str object at 0x7b179ec8eb70>\n",
            "    hello\n",
            " hello  \n",
            "he(shu)(shu)o\n",
            "world\n"
          ]
        }
      ]
    },
    {
      "cell_type": "code",
      "source": [
        "ews=list(range(9))"
      ],
      "metadata": {
        "id": "geYb9_GJjtue"
      },
      "execution_count": null,
      "outputs": []
    },
    {
      "cell_type": "code",
      "source": [
        "ews"
      ],
      "metadata": {
        "colab": {
          "base_uri": "https://localhost:8080/"
        },
        "id": "V5nfPN5KlMbI",
        "outputId": "339f3057-5575-4a1b-bb3a-0e25ea6dca8c"
      },
      "execution_count": null,
      "outputs": [
        {
          "output_type": "execute_result",
          "data": {
            "text/plain": [
              "[0, 1, 2, 3, 4, 5, 6, 7, 8]"
            ]
          },
          "metadata": {},
          "execution_count": 20
        }
      ]
    },
    {
      "cell_type": "code",
      "source": [
        "print(ews[2:4])\n",
        "print(ews[:])\n",
        "print(ews[:-1])"
      ],
      "metadata": {
        "colab": {
          "base_uri": "https://localhost:8080/"
        },
        "id": "qJi-0oVDlPY1",
        "outputId": "1361ce67-e295-41d0-a83b-bbbd57d845e8"
      },
      "execution_count": null,
      "outputs": [
        {
          "output_type": "stream",
          "name": "stdout",
          "text": [
            "[2, 3]\n",
            "[0, 1, 2, 3, 4, 5, 6, 7, 8]\n",
            "[0, 1, 2, 3, 4, 5, 6, 7]\n"
          ]
        }
      ]
    },
    {
      "cell_type": "code",
      "source": [
        "ews[2:4]=[9,10]\n",
        "ews"
      ],
      "metadata": {
        "colab": {
          "base_uri": "https://localhost:8080/"
        },
        "id": "1dfVtqsUleNM",
        "outputId": "a97fe861-c5ee-45c2-a469-11d638207d43"
      },
      "execution_count": null,
      "outputs": [
        {
          "output_type": "execute_result",
          "data": {
            "text/plain": [
              "[0, 1, 9, 10, 4, 5, 6, 7, 8]"
            ]
          },
          "metadata": {},
          "execution_count": 24
        }
      ]
    },
    {
      "cell_type": "code",
      "source": [
        "fruits=['banana','apple','papaya']\n",
        "for i in fruits:\n",
        "  print(i)"
      ],
      "metadata": {
        "colab": {
          "base_uri": "https://localhost:8080/"
        },
        "id": "0Jxl4iYbmUg_",
        "outputId": "2a23ade0-92f0-4542-d295-e58155816b2e"
      },
      "execution_count": null,
      "outputs": [
        {
          "output_type": "stream",
          "name": "stdout",
          "text": [
            "banana\n",
            "apple\n",
            "papaya\n"
          ]
        }
      ]
    },
    {
      "cell_type": "code",
      "source": [
        "for id in enumerate(fruits):\n",
        "  print('{:}'.format(id,fruits))"
      ],
      "metadata": {
        "colab": {
          "base_uri": "https://localhost:8080/"
        },
        "id": "UpFjcR4HmsoB",
        "outputId": "dabe4b30-90d8-4309-e880-5e361a30145b"
      },
      "execution_count": null,
      "outputs": [
        {
          "output_type": "stream",
          "name": "stdout",
          "text": [
            "(0, 'banana')\n",
            "(1, 'apple')\n",
            "(2, 'papaya')\n"
          ]
        }
      ]
    },
    {
      "cell_type": "code",
      "source": [
        "numbers=list(range(11))\n",
        "square=[]\n",
        "for i in numbers:\n",
        "  square.append(i**2)\n",
        "square"
      ],
      "metadata": {
        "colab": {
          "base_uri": "https://localhost:8080/"
        },
        "id": "1IfxELa2nvgy",
        "outputId": "86b63a72-647d-4096-8576-680d6b371273"
      },
      "execution_count": null,
      "outputs": [
        {
          "output_type": "execute_result",
          "data": {
            "text/plain": [
              "[0, 1, 4, 9, 16, 25, 36, 49, 64, 81, 100]"
            ]
          },
          "metadata": {},
          "execution_count": 31
        }
      ]
    },
    {
      "cell_type": "code",
      "source": [
        "nums=list(range(5))\n",
        "ev_square=[x**2 for x in nums if x%2==0]\n",
        "print(ev_square)"
      ],
      "metadata": {
        "colab": {
          "base_uri": "https://localhost:8080/"
        },
        "id": "fsGI6sMlobQX",
        "outputId": "d79271ab-d3f4-4e7f-e8cd-01d7f82c0b5f"
      },
      "execution_count": null,
      "outputs": [
        {
          "output_type": "stream",
          "name": "stdout",
          "text": [
            "[0, 4, 16]\n"
          ]
        }
      ]
    },
    {
      "cell_type": "code",
      "source": [
        "import numpy as np"
      ],
      "metadata": {
        "id": "w_or-XIDqV_L"
      },
      "execution_count": null,
      "outputs": []
    },
    {
      "cell_type": "code",
      "source": [
        "sd=np.array([1,2,3,4])"
      ],
      "metadata": {
        "id": "UZ9Vbk4psnV6"
      },
      "execution_count": null,
      "outputs": []
    },
    {
      "cell_type": "code",
      "source": [
        "print(type(sd))\n",
        "sd"
      ],
      "metadata": {
        "colab": {
          "base_uri": "https://localhost:8080/"
        },
        "id": "SsBZEZhKssDs",
        "outputId": "3ca9d540-1774-488c-ec2a-a0b0cf741d5a"
      },
      "execution_count": null,
      "outputs": [
        {
          "output_type": "stream",
          "name": "stdout",
          "text": [
            "<class 'numpy.ndarray'>\n"
          ]
        },
        {
          "output_type": "execute_result",
          "data": {
            "text/plain": [
              "array([1, 2, 3, 4])"
            ]
          },
          "metadata": {},
          "execution_count": 37
        }
      ]
    },
    {
      "cell_type": "code",
      "source": [
        "'''08.07.23'''"
      ],
      "metadata": {
        "id": "-4p18uyUsvpE",
        "colab": {
          "base_uri": "https://localhost:8080/",
          "height": 36
        },
        "outputId": "ace1da97-d35f-4bf3-8cd2-bb76d5e98fdb"
      },
      "execution_count": null,
      "outputs": [
        {
          "output_type": "execute_result",
          "data": {
            "text/plain": [
              "'08.07.23'"
            ],
            "application/vnd.google.colaboratory.intrinsic+json": {
              "type": "string"
            }
          },
          "metadata": {},
          "execution_count": 2
        }
      ]
    },
    {
      "cell_type": "code",
      "source": [
        "\"to try scatterplot , draw a correlation between array\""
      ],
      "metadata": {
        "colab": {
          "base_uri": "https://localhost:8080/",
          "height": 36
        },
        "id": "yPnI5sb4aSr1",
        "outputId": "eebdf1c8-6651-4251-9dc6-bff2987498c3"
      },
      "execution_count": null,
      "outputs": [
        {
          "output_type": "execute_result",
          "data": {
            "text/plain": [
              "'to try scatterplot , draw a correlation between array'"
            ],
            "application/vnd.google.colaboratory.intrinsic+json": {
              "type": "string"
            }
          },
          "metadata": {},
          "execution_count": 3
        }
      ]
    },
    {
      "cell_type": "code",
      "source": [
        "import numpy as np\n",
        "import matplotlib as mp\n",
        "import matplotlib.pyplot as plt\n"
      ],
      "metadata": {
        "id": "Y_OHdLH7am7x"
      },
      "execution_count": null,
      "outputs": []
    },
    {
      "cell_type": "code",
      "source": [
        "x= np.array([1,2,3,4,5])\n",
        "y= np.array([1,2,3,4,5])\n",
        "plt.plot(x,y)\n",
        "plt.scatter(x,y)\n"
      ],
      "metadata": {
        "colab": {
          "base_uri": "https://localhost:8080/",
          "height": 447
        },
        "id": "KpPFGQdmaswP",
        "outputId": "94c2257c-0a8f-46ce-caf2-866466a8d0bd"
      },
      "execution_count": null,
      "outputs": [
        {
          "output_type": "execute_result",
          "data": {
            "text/plain": [
              "<matplotlib.collections.PathCollection at 0x7eab48d36bc0>"
            ]
          },
          "metadata": {},
          "execution_count": 14
        },
        {
          "output_type": "display_data",
          "data": {
            "text/plain": [
              "<Figure size 640x480 with 1 Axes>"
            ],
            "image/png": "[encoded data removed]"
          },
          "metadata": {}
        }
      ]
    },
    {
      "cell_type": "code",
      "source": [
        "print(np.corrcoef(x,y))"
      ],
      "metadata": {
        "colab": {
          "base_uri": "https://localhost:8080/"
        },
        "id": "wml9qNqha7eU",
        "outputId": "8ac2ec28-f8ff-4183-999e-31f5c27c3684"
      },
      "execution_count": null,
      "outputs": [
        {
          "output_type": "stream",
          "name": "stdout",
          "text": [
            "[[1. 1.]\n",
            " [1. 1.]]\n"
          ]
        }
      ]
    },
    {
      "cell_type": "code",
      "source": [
        "z= np.array([23,46,69])\n",
        "m=np.array([625,25,5])\n",
        "print(np.corrcoef(z,m))"
      ],
      "metadata": {
        "colab": {
          "base_uri": "https://localhost:8080/"
        },
        "id": "QdckBNG2a-km",
        "outputId": "53ae944d-ccba-4ccd-a39c-1bbe8a6ba141"
      },
      "execution_count": null,
      "outputs": [
        {
          "output_type": "stream",
          "name": "stdout",
          "text": [
            "[[ 1.         -0.87986792]\n",
            " [-0.87986792  1.        ]]\n"
          ]
        }
      ]
    },
    {
      "cell_type": "code",
      "source": [
        "\"\"\" shows relation between x&x, x&y, y&x and y&y\"\"\""
      ],
      "metadata": {
        "colab": {
          "base_uri": "https://localhost:8080/",
          "height": 36
        },
        "id": "VNYvtXcCcIXG",
        "outputId": "7ae565be-d97a-499d-c15a-a99e9a3247b5"
      },
      "execution_count": null,
      "outputs": [
        {
          "output_type": "execute_result",
          "data": {
            "text/plain": [
              "' shows relation between x&x, x&y, y&x and y&y'"
            ],
            "application/vnd.google.colaboratory.intrinsic+json": {
              "type": "string"
            }
          },
          "metadata": {},
          "execution_count": 9
        }
      ]
    },
    {
      "cell_type": "code",
      "source": [
        "plt.plot(z,m)\n",
        "plt.scatter(z,m)"
      ],
      "metadata": {
        "colab": {
          "base_uri": "https://localhost:8080/",
          "height": 447
        },
        "id": "BIZTsKFpj6JO",
        "outputId": "422db642-df91-4d22-f067-9b4c7a682fe4"
      },
      "execution_count": null,
      "outputs": [
        {
          "output_type": "execute_result",
          "data": {
            "text/plain": [
              "<matplotlib.collections.PathCollection at 0x7eab48e1f280>"
            ]
          },
          "metadata": {},
          "execution_count": 13
        },
        {
          "output_type": "display_data",
          "data": {
            "text/plain": [
              "<Figure size 640x480 with 1 Axes>"
            ],
            "image/png": "[encoded data removed]"
          },
          "metadata": {}
        }
      ]
    },
    {
      "cell_type": "code",
      "source": [
        "import random as rd"
      ],
      "metadata": {
        "id": "_P4CRcapkGDz"
      },
      "execution_count": null,
      "outputs": []
    },
    {
      "cell_type": "code",
      "source": [
        "v=np.random.randint(150,200,100)\n",
        "g=np.random.randint(170,333,100)"
      ],
      "metadata": {
        "id": "DWm1q8IOlgAW"
      },
      "execution_count": null,
      "outputs": []
    },
    {
      "cell_type": "code",
      "source": [
        "plt.scatter(v,g)"
      ],
      "metadata": {
        "colab": {
          "base_uri": "https://localhost:8080/",
          "height": 452
        },
        "id": "aldhG3VzmIog",
        "outputId": "9f3b598b-cc14-45c2-b397-653549b2e084"
      },
      "execution_count": null,
      "outputs": [
        {
          "output_type": "execute_result",
          "data": {
            "text/plain": [
              "<matplotlib.collections.PathCollection at 0x7eab489c6650>"
            ]
          },
          "metadata": {},
          "execution_count": 21
        },
        {
          "output_type": "display_data",
          "data": {
            "text/plain": [
              "<Figure size 640x480 with 1 Axes>"
            ],
            "image/png": "[encoded data removed]"
          },
          "metadata": {}
        }
      ]
    },
    {
      "cell_type": "code",
      "source": [
        "print(np.corrcoef(v,g))"
      ],
      "metadata": {
        "colab": {
          "base_uri": "https://localhost:8080/"
        },
        "id": "YZe6h4xdmMgN",
        "outputId": "7842a063-d7a4-4a64-d63f-5a2fb41df449"
      },
      "execution_count": null,
      "outputs": [
        {
          "output_type": "stream",
          "name": "stdout",
          "text": [
            "[[ 1.         -0.05077646]\n",
            " [-0.05077646  1.        ]]\n"
          ]
        }
      ]
    },
    {
      "cell_type": "code",
      "source": [
        "q= np.vstack((v,g))"
      ],
      "metadata": {
        "id": "T85ul7urnym0"
      },
      "execution_count": null,
      "outputs": []
    },
    {
      "cell_type": "code",
      "source": [
        "sns.heatmap(q, cmap='coolwarm',)\n",
        "plt.title('Heatmap')\n",
        "plt.show()"
      ],
      "metadata": {
        "colab": {
          "base_uri": "https://localhost:8080/",
          "height": 456
        },
        "id": "0zvqYDKPsRcA",
        "outputId": "c3c4a608-b537-4ce9-94c1-dbb26bd472e0"
      },
      "execution_count": null,
      "outputs": [
        {
          "output_type": "display_data",
          "data": {
            "text/plain": [
              "<Figure size 640x480 with 2 Axes>"
            ],
            "image/png": "[encoded data removed]"
          },
          "metadata": {}
        }
      ]
    },
    {
      "cell_type": "code",
      "source": [
        "import seaborn as sns"
      ],
      "metadata": {
        "id": "LcHfshidslQt"
      },
      "execution_count": null,
      "outputs": []
    },
    {
      "cell_type": "code",
      "source": [
        "data = np.random.randint(low=1,high=100, size=(10, 10))\n",
        "\n",
        "aa=pd.DataFrame(data)\n",
        "\n",
        "qw=aa.corr()\n",
        "print(qw)\n",
        "sx=sns.heatmap(data=qw)\n",
        "plt.title('Heatmap Example with Seaborn')\n",
        "plt.show()\n",
        "# Create a heatmap using seaborn\n",
        "\n"
      ],
      "metadata": {
        "colab": {
          "base_uri": "https://localhost:8080/",
          "height": 851
        },
        "id": "lrwjzngMsqj8",
        "outputId": "0f1d12d8-f093-4069-8466-766b2a76c68c"
      },
      "execution_count": null,
      "outputs": [
        {
          "output_type": "stream",
          "name": "stdout",
          "text": [
            "          0         1         2         3         4         5         6  \\\n",
            "0  1.000000 -0.072409 -0.377206 -0.111770 -0.688289 -0.159438  0.378950   \n",
            "1 -0.072409  1.000000 -0.594712  0.095214 -0.001397 -0.257161  0.115210   \n",
            "2 -0.377206 -0.594712  1.000000  0.101435  0.260060 -0.045151 -0.477113   \n",
            "3 -0.111770  0.095214  0.101435  1.000000  0.206912 -0.591472  0.259560   \n",
            "4 -0.688289 -0.001397  0.260060  0.206912  1.000000 -0.029401  0.116021   \n",
            "5 -0.159438 -0.257161 -0.045151 -0.591472 -0.029401  1.000000 -0.365817   \n",
            "6  0.378950  0.115210 -0.477113  0.259560  0.116021 -0.365817  1.000000   \n",
            "7  0.072432  0.368150  0.169331 -0.266102 -0.143326 -0.118742 -0.313128   \n",
            "8 -0.155749 -0.095340  0.138454  0.342134 -0.385846 -0.054835 -0.335868   \n",
            "9  0.353910  0.118996 -0.205474 -0.019552 -0.665779 -0.219228  0.045702   \n",
            "\n",
            "          7         8         9  \n",
            "0  0.072432 -0.155749  0.353910  \n",
            "1  0.368150 -0.095340  0.118996  \n",
            "2  0.169331  0.138454 -0.205474  \n",
            "3 -0.266102  0.342134 -0.019552  \n",
            "4 -0.143326 -0.385846 -0.665779  \n",
            "5 -0.118742 -0.054835 -0.219228  \n",
            "6 -0.313128 -0.335868  0.045702  \n",
            "7  1.000000 -0.241029 -0.077825  \n",
            "8 -0.241029  1.000000  0.126020  \n",
            "9 -0.077825  0.126020  1.000000  \n"
          ]
        },
        {
          "output_type": "display_data",
          "data": {
            "text/plain": [
              "<Figure size 640x480 with 2 Axes>"
            ],
            "image/png": "[encoded data removed]"
          },
          "metadata": {}
        }
      ]
    },
    {
      "cell_type": "code",
      "source": [
        "ssimport pandas as pd"
      ],
      "metadata": {
        "id": "8Tv9HiIktDcp"
      },
      "execution_count": null,
      "outputs": []
    },
    {
      "cell_type": "code",
      "source": [
        "plt.plot(x=file_info[''])"
      ],
      "metadata": {
        "id": "E5ic9s1at8AY"
      },
      "execution_count": null,
      "outputs": []
    }
  ]
}